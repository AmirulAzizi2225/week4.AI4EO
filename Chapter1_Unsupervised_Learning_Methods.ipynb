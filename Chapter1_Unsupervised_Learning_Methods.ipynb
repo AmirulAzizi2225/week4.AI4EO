{
  "cells": [
    {
      "cell_type": "markdown",
      "metadata": {
        "id": "view-in-github",
        "colab_type": "text"
      },
      "source": [
        "<a href=\"https://colab.research.google.com/github/AmirulAzizi2225/week4.AI4EO/blob/main/Chapter1_Unsupervised_Learning_Methods.ipynb\" target=\"_parent\"><img src=\"https://colab.research.google.com/assets/colab-badge.svg\" alt=\"Open In Colab\"/></a>"
      ]
    },
    {
      "cell_type": "markdown",
      "source": [
        "# AI4EO Week 4 assignment\n",
        "\n",
        "\n",
        "These are the codes that can be deploy to complete assignment 4 of Artificial Intelligence for Earth Observations (AI4EO) module."
      ],
      "metadata": {
        "id": "DbRu0O4o2TYn"
      }
    },
    {
      "cell_type": "markdown",
      "source": [
        "First and foremost as usual, we need to mount this Google Colab notebook to our Google Drive path"
      ],
      "metadata": {
        "id": "zIgXrjbb3W0Q"
      }
    },
    {
      "cell_type": "code",
      "source": [
        "from google.colab import drive\n",
        "drive.mount('/content/drive')"
      ],
      "metadata": {
        "id": "KaULXj8FB87b"
      },
      "execution_count": null,
      "outputs": []
    },
    {
      "cell_type": "markdown",
      "source": [
        "Next, we will need to install these two plugins (rasterio) and (netCDF4) to conduct our subsequent analysis.  "
      ],
      "metadata": {
        "id": "6DXFibxf2skY"
      }
    },
    {
      "cell_type": "code",
      "source": [
        "pip install rasterio"
      ],
      "metadata": {
        "id": "UucH03IBCZ2J"
      },
      "execution_count": null,
      "outputs": []
    },
    {
      "cell_type": "code",
      "source": [
        "pip install netCDF4"
      ],
      "metadata": {
        "id": "eVGhMZXjTNAE"
      },
      "execution_count": null,
      "outputs": []
    },
    {
      "cell_type": "code",
      "execution_count": null,
      "metadata": {
        "id": "UoTpDfLns4wu"
      },
      "outputs": [],
      "source": [
        "# Python code for K-means clustering\n",
        "from sklearn.cluster import KMeans\n",
        "import matplotlib.pyplot as plt\n",
        "import numpy as np\n",
        "\n",
        "# Sample data\n",
        "X = np.random.rand(100, 2)\n",
        "\n",
        "# K-means model\n",
        "kmeans = KMeans(n_clusters=4)\n",
        "kmeans.fit(X)\n",
        "y_kmeans = kmeans.predict(X)\n",
        "\n",
        "# Plotting\n",
        "plt.scatter(X[:, 0], X[:, 1], c=y_kmeans, cmap='viridis')\n",
        "centers = kmeans.cluster_centers_\n",
        "plt.scatter(centers[:, 0], centers[:, 1], c='black', s=200, alpha=0.5)\n",
        "plt.show()\n"
      ]
    },
    {
      "cell_type": "markdown",
      "metadata": {
        "id": "bJWn-Nycs4wv"
      },
      "source": [
        "## Gaussian Mixture Models (GMM) {cite}`bishop2006pattern`\n",
        "\n",
        "### Introduction to Gaussian Mixture Models\n",
        "\n",
        "Gaussian Mixture Models (GMM) are a probabilistic model for representing normally distributed subpopulations within an overall population. The model assumes that the data is generated from a mixture of several Gaussian distributions, each with its own mean and variance {cite}`reynolds2009gaussian, mclachlan2004finite`. GMMs are widely used for clustering and density estimation, as they provide a method for representing complex distributions through the combination of simpler ones.\n",
        "\n",
        "### Why Gaussian Mixture Models for Clustering?\n",
        "\n",
        "Gaussian Mixture Models are particularly powerful in scenarios where:\n",
        "\n",
        "- **Soft clustering is needed**: Unlike K-means, GMM provides the probability of each data point belonging to each cluster, offering a soft classification and understanding of the uncertainties in our data.\n",
        "- **Flexibility in cluster covariance**: GMM allows for clusters to have different sizes and different shapes, making it more flexible to capture the true variance in the data.\n",
        "\n",
        "### Key Components of GMM\n",
        "\n",
        "1. **Number of Components (Gaussians)**: Similar to K in K-means, the number of Gaussians (components) is a parameter that needs to be set.\n",
        "2. **Expectation-Maximization (EM) Algorithm**: GMMs use the EM algorithm for fitting, iteratively improving the likelihood of the data given the model.\n",
        "3. **Covariance Type**: The shape, size, and orientation of the clusters are determined by the covariance type of the Gaussians (e.g., spherical, diagonal, tied, or full covariance).\n",
        "\n",
        "### The EM Algorithm in GMM\n",
        "\n",
        "The Expectation-Maximization (EM) algorithm is a two-step process:\n",
        "\n",
        "- **Expectation Step (E-step)**: Calculate the probability that each data point belongs to each cluster.\n",
        "- **Maximization Step (M-step)**: Update the parameters of the Gaussians (mean, covariance, and mixing coefficient) to maximize the likelihood of the data given these assignments.\n",
        "\n",
        "This process is repeated until convergence, meaning the parameters do not significantly change from one iteration to the next.\n",
        "\n",
        "### Advantages of GMM\n",
        "\n",
        "- **Soft Clustering**: Provides a probabilistic framework for soft clustering, giving more information about the uncertainties in the data assignments.\n",
        "- **Cluster Shape Flexibility**: Can adapt to ellipsoidal cluster shapes, thanks to the flexible covariance structure.\n",
        "\n",
        "### Basic Code Implementation\n",
        "\n",
        "Below, you'll find a basic implementation of the Gaussian Mixture Model. This should serve as an initial guide for understanding the model and applying it to your data analysis projects.\n"
      ]
    },
    {
      "cell_type": "code",
      "execution_count": null,
      "metadata": {
        "id": "4pN47fUTs4wv"
      },
      "outputs": [],
      "source": [
        "from sklearn.mixture import GaussianMixture\n",
        "import matplotlib.pyplot as plt\n",
        "import numpy as np\n",
        "\n",
        "# Sample data\n",
        "X = np.random.rand(100, 2)\n",
        "\n",
        "# GMM model\n",
        "gmm = GaussianMixture(n_components=3)\n",
        "gmm.fit(X)\n",
        "y_gmm = gmm.predict(X)\n",
        "\n",
        "# Plotting\n",
        "plt.scatter(X[:, 0], X[:, 1], c=y_gmm, cmap='viridis')\n",
        "centers = gmm.means_\n",
        "plt.scatter(centers[:, 0], centers[:, 1], c='black', s=200, alpha=0.5)\n",
        "plt.title('Gaussian Mixture Model')\n",
        "plt.show()\n"
      ]
    },
    {
      "cell_type": "markdown",
      "metadata": {
        "id": "vdpYcKBrs4ww"
      },
      "source": [
        "## Image Classification\n",
        "Now, let's explore the application of these unsupervised methods to image classification tasks, focusing specifically on distinguishing between sea ice and leads in Sentinel-2 imagery.\n",
        "\n",
        "### K-Means Implementation"
      ]
    },
    {
      "cell_type": "code",
      "execution_count": null,
      "metadata": {
        "id": "ItX0dZ1Zs4ww"
      },
      "outputs": [],
      "source": [
        "import rasterio\n",
        "import numpy as np\n",
        "from sklearn.cluster import KMeans\n",
        "import matplotlib.pyplot as plt\n",
        "\n",
        "base_path = \"/content/drive/MyDrive/GEOL0069 AI4EO/Week 4/Unsupervised Learning/S2A_MSIL1C_20190301T235611_N0207_R116_T01WCU_20190302T014622.SAFE/GRANULE/L1C_T01WCU_A019275_20190301T235610/IMG_DATA/\" # You need to specify the path\n",
        "bands_paths = {\n",
        "    'B4': base_path + 'T01WCU_20190301T235611_B04.jp2',\n",
        "    'B3': base_path + 'T01WCU_20190301T235611_B03.jp2',\n",
        "    'B2': base_path + 'T01WCU_20190301T235611_B02.jp2'\n",
        "}\n",
        "\n",
        "# Read and stack the band images\n",
        "band_data = []\n",
        "for band in ['B4']:\n",
        "    with rasterio.open(bands_paths[band]) as src:\n",
        "        band_data.append(src.read(1))\n",
        "\n",
        "# Stack bands and create a mask for valid data (non-zero values in all bands)\n",
        "band_stack = np.dstack(band_data)\n",
        "valid_data_mask = np.all(band_stack > 0, axis=2)\n",
        "\n",
        "# Reshape for K-means, only including valid data\n",
        "X = band_stack[valid_data_mask].reshape((-1, 1))\n",
        "\n",
        "# K-means clustering\n",
        "kmeans = KMeans(n_clusters=2, random_state=0).fit(X)\n",
        "labels = kmeans.labels_\n",
        "\n",
        "# Create an empty array for the result, filled with a no-data value (e.g., -1)\n",
        "labels_image = np.full(band_stack.shape[:2], -1, dtype=int)\n",
        "\n",
        "# Place cluster labels in the locations corresponding to valid data\n",
        "labels_image[valid_data_mask] = labels\n",
        "\n",
        "# Plotting the result\n",
        "plt.imshow(labels_image, cmap='viridis')\n",
        "plt.title('K-means clustering on Sentinel-2 Bands')\n",
        "plt.colorbar(label='Cluster Label')\n",
        "plt.show()\n",
        "\n",
        "del kmeans, labels, band_data, band_stack, valid_data_mask, X, labels_image\n"
      ]
    },
    {
      "cell_type": "markdown",
      "metadata": {
        "id": "UWV0qhm7s4ww"
      },
      "source": [
        "### GMM Implementation"
      ]
    },
    {
      "cell_type": "code",
      "execution_count": null,
      "metadata": {
        "id": "5HS03F6Rs4ww"
      },
      "outputs": [],
      "source": [
        "import rasterio\n",
        "import numpy as np\n",
        "from sklearn.mixture import GaussianMixture\n",
        "import matplotlib.pyplot as plt\n",
        "\n",
        "# Paths to the band images\n",
        "base_path = \"/content/drive/MyDrive/GEOL0069 AI4EO/Week 4/Unsupervised Learning/S2A_MSIL1C_20190301T235611_N0207_R116_T01WCU_20190302T014622.SAFE/GRANULE/L1C_T01WCU_A019275_20190301T235610/IMG_DATA/\" # You need to specify the path\n",
        "bands_paths = {\n",
        "    'B4': base_path + 'T01WCU_20190301T235611_B04.jp2',\n",
        "    'B3': base_path + 'T01WCU_20190301T235611_B03.jp2',\n",
        "    'B2': base_path + 'T01WCU_20190301T235611_B02.jp2'\n",
        "}\n",
        "\n",
        "# Read and stack the band images\n",
        "band_data = []\n",
        "for band in ['B4']:\n",
        "    with rasterio.open(bands_paths[band]) as src:\n",
        "        band_data.append(src.read(1))\n",
        "\n",
        "# Stack bands and create a mask for valid data (non-zero values in all bands)\n",
        "band_stack = np.dstack(band_data)\n",
        "valid_data_mask = np.all(band_stack > 0, axis=2)\n",
        "\n",
        "# Reshape for GMM, only including valid data\n",
        "X = band_stack[valid_data_mask].reshape((-1, 1))\n",
        "\n",
        "# GMM clustering\n",
        "gmm = GaussianMixture(n_components=2, random_state=0).fit(X)\n",
        "labels = gmm.predict(X)\n",
        "\n",
        "# Create an empty array for the result, filled with a no-data value (e.g., -1)\n",
        "labels_image = np.full(band_stack.shape[:2], -1, dtype=int)\n",
        "\n",
        "# Place GMM labels in the locations corresponding to valid data\n",
        "labels_image[valid_data_mask] = labels\n",
        "\n",
        "# Plotting the result\n",
        "plt.imshow(labels_image, cmap='viridis')\n",
        "plt.title('GMM clustering on Sentinel-2 Bands')\n",
        "plt.colorbar(label='Cluster Label')\n",
        "plt.show()\n"
      ]
    },
    {
      "cell_type": "markdown",
      "metadata": {
        "id": "owbOyZqss4ww"
      },
      "source": [
        "## Altimetry Classification\n",
        "Now, let's explore the application of these unsupervised methods to altimetry classification tasks, focusing specifically on distinguishing between sea ice and leads in Sentinel-3 altimetry dataset."
      ]
    },
    {
      "cell_type": "markdown",
      "metadata": {
        "id": "5ifm3G8js4wx"
      },
      "source": [
        "### Read in Functions Needed\n",
        "Before delving into the modeling process, it's crucial to preprocess the data to ensure compatibility with our analytical models. This involves transforming the raw data into meaningful variables, such as peakniness and stack standard deviation (SSD), etc."
      ]
    },
    {
      "cell_type": "code",
      "execution_count": null,
      "metadata": {
        "id": "EpxMuwjms4wx"
      },
      "outputs": [],
      "source": [
        "#\n",
        "from netCDF4 import Dataset\n",
        "import numpy as np\n",
        "import matplotlib.pyplot as plt\n",
        "from scipy.interpolate import griddata\n",
        "import numpy.ma as ma\n",
        "import glob\n",
        "from matplotlib.patches import Polygon\n",
        "import scipy.spatial as spatial\n",
        "from scipy.spatial import KDTree\n",
        "from sklearn.cluster import KMeans, DBSCAN\n",
        "from sklearn.preprocessing import StandardScaler,MinMaxScaler\n",
        "from sklearn.mixture import GaussianMixture\n",
        "from scipy.cluster.hierarchy import linkage, fcluster\n",
        "\n",
        "#=========================================================================================================\n",
        "#===================================  SUBFUNCTIONS  ======================================================\n",
        "#=========================================================================================================\n",
        "\n",
        "#*args and **kwargs allow you to pass an unspecified number of arguments to a function,\n",
        "#so when writing the function definition, you do not need to know how many arguments will be passed to your function\n",
        "#**kwargs allows you to pass keyworded variable length of arguments to a function.\n",
        "#You should use **kwargs if you want to handle named arguments in a function.\n",
        "#double star allows us to pass through keyword arguments (and any number of them).\n",
        "def peakiness(waves, **kwargs):\n",
        "\n",
        "    \"finds peakiness of waveforms.\"\n",
        "\n",
        "    #print(\"Beginning peakiness\")\n",
        "    # Kwargs are:\n",
        "    #          wf_plots. specify a number n: wf_plots=n, to show the first n waveform plots. \\\n",
        "\n",
        "    import numpy as np\n",
        "    import matplotlib\n",
        "    import matplotlib.pyplot as plt\n",
        "    import time\n",
        "\n",
        "    print(\"Running peakiness function...\")\n",
        "\n",
        "    size=np.shape(waves)[0] #.shape property is a tuple of length .ndim containing the length of each dimensions\n",
        "                            #Tuple of array dimensions.\n",
        "\n",
        "    waves1=np.copy(waves)\n",
        "\n",
        "    if waves1.ndim == 1: #number of array dimensions\n",
        "        print('only one waveform in file')\n",
        "        waves2=waves1.reshape(1,np.size(waves1)) #numpy.reshape(a, newshape, order='C'), a=array to be reshaped\n",
        "        waves1=waves2\n",
        "\n",
        "    # *args is used to send a non-keyworded variable length argument list to the function\n",
        "    def by_row(waves, *args):\n",
        "        \"calculate peakiness for each waveform\"\n",
        "        maximum=np.nanmax(waves)\n",
        "        if maximum > 0:\n",
        "\n",
        "            maximum_bin=np.where(waves==maximum)\n",
        "            #print(maximum_bin)\n",
        "            maximum_bin=maximum_bin[0][0]\n",
        "            waves_128=waves[maximum_bin-50:maximum_bin+78]\n",
        "\n",
        "            waves=waves_128\n",
        "\n",
        "            noise_floor=np.nanmean(waves[10:20])\n",
        "            where_above_nf=np.where(waves > noise_floor)\n",
        "\n",
        "            if np.shape(where_above_nf)[1] > 0:\n",
        "                maximum=np.nanmax(waves[where_above_nf])\n",
        "                total=np.sum(waves[where_above_nf])\n",
        "                mean=np.nanmean(waves[where_above_nf])\n",
        "                peaky=maximum/mean\n",
        "\n",
        "            else:\n",
        "                peaky = np.nan\n",
        "                maximum = np.nan\n",
        "                total = np.nan\n",
        "\n",
        "        else:\n",
        "            peaky = np.nan\n",
        "            maximum = np.nan\n",
        "            total = np.nan\n",
        "\n",
        "        if 'maxs' in args:\n",
        "            return maximum\n",
        "        if 'totals' in args:\n",
        "            return total\n",
        "        if 'peaky' in args:\n",
        "            return peaky\n",
        "\n",
        "    peaky=np.apply_along_axis(by_row, 1, waves1, 'peaky') #numpy.apply_along_axis(func1d, axis, arr, *args, **kwargs)\n",
        "\n",
        "    if 'wf_plots' in kwargs:\n",
        "        maximums=np.apply_along_axis(by_row, 1, waves1, 'maxs')\n",
        "        totals=np.apply_along_axis(by_row, 1, waves1, 'totals')\n",
        "\n",
        "        for i in range(0,kwargs['wf_plots']):\n",
        "            if i == 0:\n",
        "                print(\"Plotting first \"+str(kwargs['wf_plots'])+\" waveforms\")\n",
        "\n",
        "            plt.plot(waves1[i,:])#, a, col[i],label=label[i])\n",
        "            plt.axhline(maximums[i], color='green')\n",
        "            plt.axvline(10, color='r')\n",
        "            plt.axvline(19, color='r')\n",
        "            plt.xlabel('Bin (of 256)')\n",
        "            plt.ylabel('Power')\n",
        "            plt.text(5,maximums[i],\"maximum=\"+str(maximums[i]))\n",
        "            plt.text(5,maximums[i]-2500,\"total=\"+str(totals[i]))\n",
        "            plt.text(5,maximums[i]-5000,\"peakiness=\"+str(peaky[i]))\n",
        "            plt.title('waveform '+str(i)+' of '+str(size)+'\\n. Noise floor average taken between red lines.')\n",
        "            plt.show()\n",
        "\n",
        "\n",
        "    return peaky\n",
        "\n",
        "#=========================================================================================================\n",
        "#=========================================================================================================\n",
        "#=========================================================================================================\n",
        "\n",
        "\n",
        "def unpack_gpod(variable):\n",
        "\n",
        "    from scipy.interpolate import interp1d\n",
        "\n",
        "    time_1hz=SAR_data.variables['time_01'][:]\n",
        "    time_20hz=SAR_data.variables['time_20_ku'][:]\n",
        "    time_20hzC = SAR_data.variables['time_20_c'][:]\n",
        "\n",
        "    out=(SAR_data.variables[variable][:]).astype(float)  # convert from integer array to float.\n",
        "\n",
        "    #if ma.is_masked(dataset.variables[variable][:]) == True:\n",
        "    #print(variable,'is masked. Removing mask and replacing masked values with nan')\n",
        "    out=np.ma.filled(out, np.nan)\n",
        "\n",
        "    if len(out)==len(time_1hz):\n",
        "\n",
        "        print(variable,'is 1hz. Expanding to 20hz...')\n",
        "        out = interp1d(time_1hz,out,fill_value=\"extrapolate\")(time_20hz)\n",
        "\n",
        "    if len(out)==len(time_20hzC):\n",
        "        print(variable, 'is c band, expanding to 20hz ku band dimension')\n",
        "        out = interp1d(time_20hzC,out,fill_value=\"extrapolate\")(time_20hz)\n",
        "    return out\n",
        "\n",
        "\n",
        "#=========================================================================================================\n",
        "#=========================================================================================================\n",
        "#=========================================================================================================\n",
        "\n",
        "def calculate_SSD(RIP):\n",
        "\n",
        "    from scipy.optimize import curve_fit\n",
        "    # from scipy import asarray as ar,exp\n",
        "    from numpy import asarray as ar, exp\n",
        "\n",
        "    do_plot='Off'\n",
        "\n",
        "    def gaussian(x,a,x0,sigma):\n",
        "            return a * np.exp(-(x - x0)**2 / (2 * sigma**2))\n",
        "\n",
        "    SSD=np.zeros(np.shape(RIP)[0])*np.nan\n",
        "    x=np.arange(np.shape(RIP)[1])\n",
        "\n",
        "    for i in range(np.shape(RIP)[0]):\n",
        "\n",
        "        y=np.copy(RIP[i])\n",
        "        y[(np.isnan(y)==True)]=0\n",
        "\n",
        "        if 'popt' in locals():\n",
        "            del(popt,pcov)\n",
        "\n",
        "        SSD_calc=0.5*(np.sum(y**2)*np.sum(y**2)/np.sum(y**4))\n",
        "        #print('SSD calculated from equation',SSD)\n",
        "\n",
        "        #n = len(x)\n",
        "        mean_est = sum(x * y) / sum(y)\n",
        "        sigma_est = np.sqrt(sum(y * (x - mean_est)**2) / sum(y))\n",
        "        #print('est. mean',mean,'est. sigma',sigma_est)\n",
        "\n",
        "        try:\n",
        "            popt,pcov = curve_fit(gaussian, x, y, p0=[max(y), mean_est, sigma_est],maxfev=10000)\n",
        "        except RuntimeError as e:\n",
        "            print(\"Gaussian SSD curve-fit error: \"+str(e))\n",
        "            #plt.plot(y)\n",
        "            #plt.show()\n",
        "\n",
        "        except TypeError as t:\n",
        "            print(\"Gaussian SSD curve-fit error: \"+str(t))\n",
        "\n",
        "        if do_plot=='ON':\n",
        "\n",
        "            plt.plot(x,y)\n",
        "            plt.plot(x,gaussian(x,*popt),'ro:',label='fit')\n",
        "            plt.axvline(popt[1])\n",
        "            plt.axvspan(popt[1]-popt[2], popt[1]+popt[2], alpha=0.15, color='Navy')\n",
        "            plt.show()\n",
        "\n",
        "            print('popt',popt)\n",
        "            print('curve fit SSD',popt[2])\n",
        "\n",
        "        if 'popt' in locals():\n",
        "            SSD[i]=abs(popt[2])\n",
        "\n",
        "\n",
        "    return SSD\n"
      ]
    },
    {
      "cell_type": "code",
      "execution_count": null,
      "metadata": {
        "id": "T-t4GMyMs4wx"
      },
      "outputs": [],
      "source": [
        "path = '/content/drive/MyDrive/GEOL0069 AI4EO/Week 4/Unsupervised Learning/'\n",
        "SAR_file = 'S3A_SR_2_LAN_SI_20190307T005808_20190307T012503_20230527T225016_1614_042_131______LN3_R_NT_005.SEN3'\n",
        "SAR_data = Dataset(path + SAR_file + '/enhanced_measurement.nc')\n",
        "\n",
        "SAR_lat = unpack_gpod('lat_20_ku')\n",
        "SAR_lon = unpack_gpod('lon_20_ku')\n",
        "waves   = unpack_gpod('waveform_20_ku')\n",
        "sig_0   = unpack_gpod('sig0_water_20_ku')\n",
        "RIP     = unpack_gpod('rip_20_ku')\n",
        "flag = unpack_gpod('surf_type_class_20_ku')\n",
        "\n",
        "# Filter out bad data points using criteria (here, lat >= -99999)\n",
        "find = np.where(SAR_lat >= -99999)\n",
        "SAR_lat = SAR_lat[find]\n",
        "SAR_lon = SAR_lon[find]\n",
        "waves   = waves[find]\n",
        "sig_0   = sig_0[find]\n",
        "RIP     = RIP[find]\n",
        "\n",
        "# Calculate additional features\n",
        "PP = peakiness(waves)\n",
        "SSD = calculate_SSD(RIP)\n",
        "\n",
        "# Convert to numpy arrays (if not already)\n",
        "sig_0_np = np.array(sig_0)\n",
        "PP_np    = np.array(PP)\n",
        "SSD_np   = np.array(SSD)\n",
        "\n",
        "# Create data matrix\n",
        "data = np.column_stack((sig_0_np, PP_np, SSD_np))\n",
        "\n",
        "# Standardize the data\n",
        "scaler = StandardScaler()\n",
        "data_normalized = scaler.fit_transform(data)"
      ]
    },
    {
      "cell_type": "markdown",
      "metadata": {
        "id": "5FaVP6a9s4wy"
      },
      "source": [
        "There are some NaN values in the dataset so one way to deal with this is to delete them."
      ]
    },
    {
      "cell_type": "code",
      "execution_count": null,
      "metadata": {
        "id": "F9mfoR-Gs4wy"
      },
      "outputs": [],
      "source": [
        "# Remove any rows that contain NaN values\n",
        "nan_count = np.isnan(data_normalized).sum()\n",
        "print(f\"Number of NaN values in the array: {nan_count}\")\n",
        "\n",
        "data_cleaned = data_normalized[~np.isnan(data_normalized).any(axis=1)]\n",
        "\n",
        "mask = ~np.isnan(data_normalized).any(axis=1)\n",
        "waves_cleaned = np.array(waves)[mask]\n",
        "flag_cleaned = np.array(flag)[mask]\n",
        "\n",
        "data_cleaned = data_cleaned[(flag_cleaned==1)|(flag_cleaned==2)]\n",
        "waves_cleaned = waves_cleaned[(flag_cleaned==1)|(flag_cleaned==2)]\n",
        "flag_cleaned = flag_cleaned[(flag_cleaned==1)|(flag_cleaned==2)]\n"
      ]
    },
    {
      "cell_type": "markdown",
      "metadata": {
        "id": "atJponGTs4wy"
      },
      "source": [
        "Now, let's proceed with running the GMM model as usual. Remember, you have the flexibility to substitute this with K-Means or any other preferred model."
      ]
    },
    {
      "cell_type": "code",
      "execution_count": null,
      "metadata": {
        "id": "nzVK6s2As4wy"
      },
      "outputs": [],
      "source": [
        "gmm = GaussianMixture(n_components=2, random_state=0)\n",
        "gmm.fit(data_cleaned)\n",
        "clusters_gmm = gmm.predict(data_cleaned)"
      ]
    },
    {
      "cell_type": "markdown",
      "metadata": {
        "id": "iTGZN3DQs4wy"
      },
      "source": [
        "We can also inspect how many data points are there in each class of your clustering prediction."
      ]
    },
    {
      "cell_type": "code",
      "execution_count": null,
      "metadata": {
        "id": "UhZv0nqJs4wy"
      },
      "outputs": [],
      "source": [
        "unique, counts = np.unique(clusters_gmm, return_counts=True)\n",
        "class_counts = dict(zip(unique, counts))\n",
        "print(\"Cluster counts:\", class_counts)"
      ]
    },
    {
      "cell_type": "markdown",
      "source": [
        "We can plot the mean waveform of each class."
      ],
      "metadata": {
        "id": "KySMF9xVVGXB"
      }
    },
    {
      "cell_type": "code",
      "source": [
        "# mean and standard deviation for all echoes\n",
        "mean_ice = np.mean(waves_cleaned[clusters_gmm==0],axis=0)\n",
        "std_ice = np.std(waves_cleaned[clusters_gmm==0], axis=0)\n",
        "\n",
        "plt.plot(mean_ice, label='ice')\n",
        "plt.fill_between(range(len(mean_ice)), mean_ice - std_ice, mean_ice + std_ice, alpha=0.3)\n",
        "\n",
        "\n",
        "mean_lead = np.mean(waves_cleaned[clusters_gmm==1],axis=0)\n",
        "std_lead = np.std(waves_cleaned[clusters_gmm==1], axis=0)\n",
        "\n",
        "plt.plot(mean_lead, label='lead')\n",
        "plt.fill_between(range(len(mean_lead)), mean_lead - std_lead, mean_lead + std_lead, alpha=0.3)\n",
        "\n",
        "plt.title('Plot of mean and standard deviation for each class')\n",
        "plt.legend()"
      ],
      "metadata": {
        "id": "cJIBWAUUTrUv"
      },
      "execution_count": null,
      "outputs": []
    },
    {
      "cell_type": "code",
      "source": [
        "x = np.stack([np.arange(1,waves_cleaned.shape[1]+1)]*waves_cleaned.shape[0])\n",
        "plt.plot(x,waves_cleaned)  # plot of all the echos\n",
        "plt.show()"
      ],
      "metadata": {
        "colab": {
          "base_uri": "https://localhost:8080/",
          "height": 430
        },
        "id": "74euV2IU5CTH",
        "outputId": "b549e198-712b-4f82-87e9-499b4a33bd1d"
      },
      "execution_count": null,
      "outputs": [
        {
          "output_type": "display_data",
          "data": {
            "text/plain": [
              "<Figure size 640x480 with 1 Axes>"
            ],
            "image/png": "[encoded data removed]"
          },
          "metadata": {}
        }
      ]
    },
    {
      "cell_type": "code",
      "source": [
        "# plot echos for the lead cluster\n",
        "x = np.stack([np.arange(1,waves_cleaned[clusters_gmm==1].shape[1]+1)]*waves_cleaned[clusters_gmm==1].shape[0])\n",
        "plt.plot(x,waves_cleaned[clusters_gmm==1])  # plot of all the echos\n",
        "plt.show()"
      ],
      "metadata": {
        "id": "L8Mq7gHsyLdz"
      },
      "execution_count": null,
      "outputs": []
    },
    {
      "cell_type": "code",
      "source": [
        "# plot echos for the sea ice cluster\n",
        "x = np.stack([np.arange(1,waves_cleaned[clusters_gmm==0].shape[1]+1)]*waves_cleaned[clusters_gmm==0].shape[0])\n",
        "plt.plot(x,waves_cleaned[clusters_gmm==0])  # plot of all the echos\n",
        "plt.show()"
      ],
      "metadata": {
        "id": "iRXyw5avydW8"
      },
      "execution_count": null,
      "outputs": []
    },
    {
      "cell_type": "markdown",
      "source": [
        "## Scatter Plots of Clustered Data\n",
        "\n",
        "This code visualizes the clustering results using scatter plots, where different colors represent different clusters (`clusters_gmm`)."
      ],
      "metadata": {
        "id": "XNGgBQlz1cqo"
      }
    },
    {
      "cell_type": "code",
      "source": [
        "plt.scatter(data_cleaned[:,0],data_cleaned[:,1],c=clusters_gmm)\n",
        "plt.xlabel(\"sig_0\")\n",
        "plt.ylabel(\"PP\")\n",
        "plt.show()\n",
        "plt.scatter(data_cleaned[:,0],data_cleaned[:,2],c=clusters_gmm)\n",
        "plt.xlabel(\"sig_0\")\n",
        "plt.ylabel(\"SSD\")\n",
        "plt.show()\n",
        "plt.scatter(data_cleaned[:,1],data_cleaned[:,2],c=clusters_gmm)\n",
        "plt.xlabel(\"PP\")\n",
        "plt.ylabel(\"SSD\")"
      ],
      "metadata": {
        "id": "0-HTU4Rx03i9"
      },
      "execution_count": null,
      "outputs": []
    },
    {
      "cell_type": "markdown",
      "source": [
        "## Waveform Alignment Using Cross-Correlation\n",
        "\n",
        "This code aligns waveforms in the cluster where `clusters_gmm == 0` by using cross-correlation.\n",
        "\n"
      ],
      "metadata": {
        "id": "9zB6Kb4i1Ng0"
      }
    },
    {
      "cell_type": "code",
      "source": [
        "from scipy.signal import correlate\n",
        "\n",
        "# Find the reference point (e.g., the peak)\n",
        "reference_point_index = np.argmax(np.mean(waves_cleaned[clusters_gmm==0], axis=0))\n",
        "\n",
        "# Calculate cross-correlation with the reference point\n",
        "aligned_waves = []\n",
        "for wave in waves_cleaned[clusters_gmm==0][::len(waves_cleaned[clusters_gmm == 0]) // 10]:\n",
        "    correlation = correlate(wave, waves_cleaned[clusters_gmm==0][0])\n",
        "    shift = len(wave) - np.argmax(correlation)\n",
        "    aligned_wave = np.roll(wave, shift)\n",
        "    aligned_waves.append(aligned_wave)\n",
        "\n",
        "# Plot aligned waves\n",
        "for aligned_wave in aligned_waves:\n",
        "    plt.plot(aligned_wave)\n",
        "\n",
        "plt.title('Plot of 10 equally spaced functions where clusters_gmm = 0 (aligned)')"
      ],
      "metadata": {
        "id": "07t3sYAh08cx"
      },
      "execution_count": null,
      "outputs": []
    },
    {
      "cell_type": "markdown",
      "source": [
        "## Compare with ESA data\n",
        "In the ESA dataset, sea ice = 1 and lead = 2. Therefore, we need to subtract 1 from it so our predicted labels are comparable with the official product labels."
      ],
      "metadata": {
        "id": "-UPesiW95cOd"
      }
    },
    {
      "cell_type": "code",
      "source": [
        "flag_cleaned_modified = flag_cleaned - 1"
      ],
      "metadata": {
        "id": "sMKy3a4_5frh"
      },
      "execution_count": null,
      "outputs": []
    },
    {
      "cell_type": "code",
      "source": [
        "from sklearn.metrics import confusion_matrix, classification_report\n",
        "\n",
        "true_labels = flag_cleaned_modified   # true labels from the ESA dataset\n",
        "predicted_gmm = clusters_gmm          # predicted labels from GMM method\n",
        "\n",
        "# Compute confusion matrix\n",
        "conf_matrix = confusion_matrix(true_labels, predicted_gmm)\n",
        "\n",
        "# Print confusion matrix\n",
        "print(\"Confusion Matrix:\")\n",
        "print(conf_matrix)\n",
        "\n",
        "# Compute classification report\n",
        "class_report = classification_report(true_labels, predicted_gmm)\n",
        "\n",
        "# Print classification report\n",
        "print(\"\\nClassification Report:\")\n",
        "print(class_report)"
      ],
      "metadata": {
        "id": "wfAWF8VN5fux"
      },
      "execution_count": null,
      "outputs": []
    }
  ],
  "metadata": {
    "kernelspec": {
      "display_name": "Python 3",
      "name": "python3"
    },
    "language_info": {
      "codemirror_mode": {
        "name": "ipython",
        "version": 3
      },
      "file_extension": ".py",
      "mimetype": "text/x-python",
      "name": "python",
      "nbconvert_exporter": "python",
      "pygments_lexer": "ipython3",
      "version": "3.10.13"
    },
    "orig_nbformat": 4,
    "vscode": {
      "interpreter": {
        "hash": "ea7d6a51bd5bebc5530766074a327a4db30535c2e45ca3d8f95c2d659fc0ffa4"
      }
    },
    "colab": {
      "provenance": [],
      "gpuType": "T4",
      "include_colab_link": true
    },
    "accelerator": "GPU"
  },
  "nbformat": 4,
  "nbformat_minor": 0
}